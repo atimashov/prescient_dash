{
 "cells": [
  {
   "cell_type": "code",
   "execution_count": 40,
   "metadata": {},
   "outputs": [],
   "source": [
    "from elasticsearch import Elasticsearch\n",
    "from elasticsearch_dsl import Search\n",
    "import pandas as pd\n",
    "import numpy as np"
   ]
  },
  {
   "cell_type": "code",
   "execution_count": 15,
   "metadata": {},
   "outputs": [],
   "source": [
    "host_name = 'https://search-entropia-kfc-7zxb6knn77auxxkxm3qfnbhyqa.ap-southeast-1.es.amazonaws.com'\n",
    "client = Elasticsearch(hosts = [host_name], verify_certs = False)\n",
    "s = Search(using = client, index = 'testindex_kfc1506')"
   ]
  },
  {
   "cell_type": "code",
   "execution_count": 36,
   "metadata": {},
   "outputs": [
    {
     "name": "stdout",
     "output_type": "stream",
     "text": [
      "1763726\n"
     ]
    }
   ],
   "source": [
    "out = []\n",
    "i = 0\n",
    "for hit in s.scan():\n",
    "    i += 1\n",
    "    if 'registered' not in hit and 'first_activity' not in hit: continue \n",
    "    if 'user' not in hit or 'email' not in hit.user: continue\n",
    "    if 'store' not in hit or 'state' not in hit.store: continue\n",
    "    out.append({'email': hit.user.email, 'state': hit.store.state, 'date':hit.registered[:10] if 'registered' in hit else hit.first_activity[:10]})\n",
    "print(i)\n",
    "    #    break"
   ]
  },
  {
   "cell_type": "code",
   "execution_count": 37,
   "metadata": {},
   "outputs": [
    {
     "data": {
      "text/plain": [
       "[{'email': 'shahrul_n@hotmail.com',\n",
       "  'state': 'WP (Kuala Lumpur)',\n",
       "  'date': '2017-01-14'},\n",
       " {'email': 'nicolesoh_niko@hotmail.com',\n",
       "  'state': 'Selangor',\n",
       "  'date': '2017-01-02'},\n",
       " {'email': 'warikusari@yahoo.com.my',\n",
       "  'state': 'Selangor',\n",
       "  'date': '2017-01-06'},\n",
       " {'email': '272741794@qq.com',\n",
       "  'state': 'Negeri Sembilan',\n",
       "  'date': '2017-01-31'},\n",
       " {'email': 'alexchong949@icloud.com',\n",
       "  'state': 'Selangor',\n",
       "  'date': '2017-06-12'},\n",
       " {'email': 'sukhV20@gmail.com', 'state': 'Selangor', 'date': '2017-03-17'}]"
      ]
     },
     "execution_count": 37,
     "metadata": {},
     "output_type": "execute_result"
    }
   ],
   "source": [
    "out[:6]"
   ]
  },
  {
   "cell_type": "code",
   "execution_count": 58,
   "metadata": {},
   "outputs": [],
   "source": [
    "tmp = pd.Series(np.random.normal(0.3, 0.3, len(out)))\n",
    "tmp.loc[tmp > 0.95] = 0.95\n",
    "tmp.loc[tmp < 0.05] = 0.05"
   ]
  },
  {
   "cell_type": "code",
   "execution_count": 59,
   "metadata": {},
   "outputs": [],
   "source": [
    "df = pd.DataFrame(out)\n",
    "df['prob'] = tmp\n",
    "df.to_csv('qq.csv', index = False)"
   ]
  },
  {
   "cell_type": "code",
   "execution_count": 57,
   "metadata": {},
   "outputs": [
    {
     "data": {
      "text/plain": [
       "0          0.356339\n",
       "1          0.424812\n",
       "2          0.499402\n",
       "3          0.050000\n",
       "4          0.050000\n",
       "5          0.542647\n",
       "6          0.415106\n",
       "7          0.420029\n",
       "8          0.315376\n",
       "9          0.435693\n",
       "10         0.860990\n",
       "11         0.470047\n",
       "12         0.276359\n",
       "13         0.253404\n",
       "14         0.050000\n",
       "15         0.950000\n",
       "16         0.540131\n",
       "17         0.121857\n",
       "18         0.219320\n",
       "19         0.325661\n",
       "20         0.050000\n",
       "21         0.640021\n",
       "22         0.388246\n",
       "23         0.188984\n",
       "24         0.094424\n",
       "25         0.594844\n",
       "26         0.379625\n",
       "27         0.442046\n",
       "28         0.239011\n",
       "29         0.050000\n",
       "             ...   \n",
       "1743393         NaN\n",
       "1743394         NaN\n",
       "1743395         NaN\n",
       "1743396         NaN\n",
       "1743397         NaN\n",
       "1743398         NaN\n",
       "1743399         NaN\n",
       "1743400         NaN\n",
       "1743401         NaN\n",
       "1743402         NaN\n",
       "1743403         NaN\n",
       "1743404         NaN\n",
       "1743405         NaN\n",
       "1743406         NaN\n",
       "1743407         NaN\n",
       "1743408         NaN\n",
       "1743409         NaN\n",
       "1743410         NaN\n",
       "1743411         NaN\n",
       "1743412         NaN\n",
       "1743413         NaN\n",
       "1743414         NaN\n",
       "1743415         NaN\n",
       "1743416         NaN\n",
       "1743417         NaN\n",
       "1743418         NaN\n",
       "1743419         NaN\n",
       "1743420         NaN\n",
       "1743421         NaN\n",
       "1743422         NaN\n",
       "Name: prob, Length: 1743423, dtype: float64"
      ]
     },
     "execution_count": 57,
     "metadata": {},
     "output_type": "execute_result"
    }
   ],
   "source": [
    "df['prob']"
   ]
  },
  {
   "cell_type": "code",
   "execution_count": 8,
   "metadata": {},
   "outputs": [
    {
     "data": {
      "text/plain": [
       "{'user': {'user_id': 27303820,\n",
       "  'email': 'raquelfragata97@gmail.com',\n",
       "  'first_name': 'raquel',\n",
       "  'last_name': 'fragata'},\n",
       " 'registered': '2018-04-09'}"
      ]
     },
     "execution_count": 8,
     "metadata": {},
     "output_type": "execute_result"
    }
   ],
   "source": [
    "hit.to_dict()"
   ]
  },
  {
   "cell_type": "code",
   "execution_count": 11,
   "metadata": {},
   "outputs": [
    {
     "data": {
      "text/plain": [
       "True"
      ]
     },
     "execution_count": 11,
     "metadata": {},
     "output_type": "execute_result"
    }
   ],
   "source": [
    "'registered' in hit"
   ]
  },
  {
   "cell_type": "code",
   "execution_count": 41,
   "metadata": {},
   "outputs": [
    {
     "data": {
      "text/plain": [
       "array([ 0.82120415, -0.26032599, -0.03921248,  0.51074934,  0.60110503,\n",
       "       -0.51578689,  0.37288925, -0.32623354, -0.10586017,  0.17963731,\n",
       "        0.85602305,  0.17990142,  1.22013273,  0.59004801,  0.19965902,\n",
       "        0.89611558,  0.03922522,  0.03388734,  0.97148506,  0.17863443,\n",
       "       -0.16440982,  0.29083731,  0.22641561,  0.60067213,  0.78487407,\n",
       "        0.50387406,  0.35735398,  0.39805611,  0.74843107,  0.26023988,\n",
       "        0.28784749,  0.80984586,  0.17037563,  0.86022002,  0.48157933,\n",
       "       -0.0345015 , -0.32580695, -0.44033544,  0.58273302,  0.16036008,\n",
       "        0.42378855,  0.51850325,  1.10455437,  0.1309763 ,  0.37158979,\n",
       "       -0.12747138,  0.81870183,  0.55728193, -0.20266167,  0.27010223,\n",
       "       -0.05462915,  0.80915274,  0.42711706,  1.06881842,  0.65287207,\n",
       "        0.06500633,  0.10366575,  0.75921586, -0.12861452,  0.41917493,\n",
       "        0.19662163, -0.65915063,  0.32940661,  0.35060469,  0.40668095,\n",
       "        0.73135166,  0.45924176, -0.38272471,  1.15602297,  0.18442767,\n",
       "       -0.41156558, -0.30025377, -0.31548014,  0.57893919,  0.99276403,\n",
       "       -0.53992392,  0.07208356,  0.23114476,  0.32518773,  0.75248317,\n",
       "       -0.4659327 ,  0.01429927,  0.7121141 ,  0.63681406,  0.29515656,\n",
       "       -0.12072114, -0.11748631,  0.68723138,  0.20068519,  0.50734543,\n",
       "        1.18413543,  1.08091619,  0.42317359,  0.60275018,  0.16006374,\n",
       "        1.1567459 , -0.0206431 ,  0.19720691, -0.2612893 ,  0.68549027])"
      ]
     },
     "execution_count": 41,
     "metadata": {},
     "output_type": "execute_result"
    }
   ],
   "source": [
    "n"
   ]
  },
  {
   "cell_type": "code",
   "execution_count": 43,
   "metadata": {},
   "outputs": [],
   "source": [
    "import seaborn as sns"
   ]
  },
  {
   "cell_type": "code",
   "execution_count": 53,
   "metadata": {},
   "outputs": [
    {
     "data": {
      "text/plain": [
       "<matplotlib.axes._subplots.AxesSubplot at 0x7f2dfa3f22e8>"
      ]
     },
     "execution_count": 53,
     "metadata": {},
     "output_type": "execute_result"
    },
    {
     "data": {
      "image/png": "[encoded data removed]",
      "text/plain": [
       "<Figure size 432x288 with 1 Axes>"
      ]
     },
     "metadata": {
      "needs_background": "light"
     },
     "output_type": "display_data"
    }
   ],
   "source": [
    "sns.distplot(tmp)"
   ]
  },
  {
   "cell_type": "code",
   "execution_count": null,
   "metadata": {},
   "outputs": [],
   "source": []
  }
 ],
 "metadata": {
  "kernelspec": {
   "display_name": "Python 3",
   "language": "python",
   "name": "python3"
  },
  "language_info": {
   "codemirror_mode": {
    "name": "ipython",
    "version": 3
   },
   "file_extension": ".py",
   "mimetype": "text/x-python",
   "name": "python",
   "nbconvert_exporter": "python",
   "pygments_lexer": "ipython3",
   "version": "3.6.8"
  }
 },
 "nbformat": 4,
 "nbformat_minor": 2
}
