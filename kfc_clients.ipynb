{
 "cells": [
  {
   "cell_type": "code",
   "execution_count": 1,
   "metadata": {},
   "outputs": [],
   "source": [
    "import psycopg2\n",
    "import pandas as pd\n",
    "from time import time\n",
    "from datetime import datetime, timedelta\n",
    "import math"
   ]
  },
  {
   "cell_type": "code",
   "execution_count": 2,
   "metadata": {},
   "outputs": [],
   "source": [
    "def timer(f):\n",
    "    def tmp(*args, **kwargs):\n",
    "        t = time()\n",
    "        res = f(*args, **kwargs)\n",
    "\n",
    "        print('working time: {} sec.'.format(round(time() - t, 2)))\n",
    "        return res\n",
    "\n",
    "    return tmp\n",
    "\n",
    "\n",
    "@timer\n",
    "def getTable(table = 'web_order', schema = 'kfc', db = 'entropia'):\n",
    "    try:\n",
    "        conn = psycopg2.connect(\n",
    "            database = db, user = 'postgres', password = 'qmzpqmzp',\n",
    "            host = 'localhost', port = 5432\n",
    "        )\n",
    "        query = 'SELECT * FROM {}.{}'.format(schema, table)\n",
    "        df = pd.read_sql(query, conn)\n",
    "        return df\n",
    "    except:\n",
    "        print('getTable failed')\n",
    "\n",
    "\n",
    "def getDate(table = 'user_info', schema = 'kfc', db = 'entropia'):\n",
    "    try:\n",
    "        conn = psycopg2.connect(\n",
    "            database = db, user = 'postgres', password = 'qmzpqmzp',\n",
    "            host = 'localhost', port = 5432\n",
    "        )\n",
    "        query = 'SELECT max(updated) as updated {}.{}'.format(schema, table)\n",
    "        df = pd.read_sql(query, conn)\n",
    "        return df['update'][0]\n",
    "    except:\n",
    "        return datetime(2000, 1, 1).date()\n",
    "\n",
    "\n",
    "@timer\n",
    "def getOrder(date, table = 'web_order', schema = 'kfc', db = 'entropia'):\n",
    "    try:\n",
    "        conn = psycopg2.connect(\n",
    "            database = db, user = 'postgres', password = 'qmzpqmzp',\n",
    "            host = 'localhost', port = 5432\n",
    "        )\n",
    "        feat = 'LOWER(email) as email, phone_str as phone, LOWER(first_name) as first_name, LOWER(last_name) as last_name'\n",
    "        query = \"\"\"\n",
    "            SELECT user_id, {}, min(DATE(created)) as created  \n",
    "            FROM {}.{}\n",
    "            WHERE status IN (1,3) AND DATE(created) > '{}'\n",
    "            GROUP BY user_id, LOWER(email), phone_str, LOWER(first_name), LOWER(last_name)\n",
    "        \"\"\".format(feat, schema, table, str(date))\n",
    "        df = pd.read_sql(query, conn)\n",
    "        df = df.sort_values(by = ['created']).reset_index()\n",
    "        del df['index']\n",
    "        return df\n",
    "    except:\n",
    "        print('getTable failed')\n",
    "\n",
    "@timer\n",
    "def getUser(date, table = 'web_user', schema = 'kfc', db = 'entropia'):\n",
    "    try:\n",
    "        conn = psycopg2.connect(\n",
    "            database = db, user = 'postgres', password = 'qmzpqmzp',\n",
    "            host = 'localhost', port = 5432\n",
    "        )\n",
    "        feat = 'LOWER(email) as email, fb_id, LOWER(first_name) as first_name, LOWER(last_name) as last_name'\n",
    "        query = \"\"\"\n",
    "            SELECT uid as user_id, {}, min(DATE(created)) as created \n",
    "            FROM {}.{}\n",
    "            WHERE DATE(created) > '{}'\n",
    "            GROUP BY uid, LOWER(email), fb_id, LOWER(first_name), LOWER(last_name)\n",
    "        \"\"\".format(feat, schema, table, str(date))\n",
    "        df = pd.read_sql(query, conn)\n",
    "        df = df.sort_values(by=['created']).reset_index()\n",
    "        del df['index']\n",
    "        return df\n",
    "    except:\n",
    "        print('getUser failed')\n",
    "\n",
    "@timer\n",
    "def getStoredUser(table = 'user_info', schema = 'kfc', db = 'entropia'):\n",
    "    df = getTable(table = table, schema = schema, db = db)\n",
    "    df = df.sort_values(by=['updated']).reset_index()\n",
    "    del df['index']\n",
    "    return df\n",
    "\n",
    "\n",
    "def not_null(df):\n",
    "    l = df.shape[0]\n",
    "    l_col = max(map(len, df.columns))\n",
    "    print('{} rows'.format(l))\n",
    "    print('-' * (5 + len(str(l))))\n",
    "    for col in df.columns:\n",
    "        try:\n",
    "            nn = sum(df[col].notnull())\n",
    "            un = len(df[col].unique())\n",
    "            perc = round(100 * nn / l, 2)\n",
    "            print('{}{}: {}%{} | {}{} unique'.format(col, ' ' * (l_col - len(col)), perc, ' ' * (6 - len(str(perc))), un, ' ' * (len(str(l)) - len(str(un)))))\n",
    "        except:\n",
    "            pass"
   ]
  },
  {
   "cell_type": "code",
   "execution_count": 3,
   "metadata": {},
   "outputs": [
    {
     "name": "stdout",
     "output_type": "stream",
     "text": [
      "working time: 12.05 sec.\n",
      "working time: 4.02 sec.\n",
      "(853563, 6) (780854, 6)\n",
      "CPU times: user 5.32 s, sys: 216 ms, total: 5.54 s\n",
      "Wall time: 16.7 s\n"
     ]
    }
   ],
   "source": [
    "%%time\n",
    "date = getDate()\n",
    "users_o = getOrder(date)\n",
    "users_o['email'] = users_o['email'].apply(lambda x: x.lower() if x is not None else None)\n",
    "users = getUser(date)\n",
    "users['email'] = users['email'].apply(lambda x: x.lower() if x is not None else None)\n",
    "print(users.shape, users_o.shape)"
   ]
  },
  {
   "cell_type": "code",
   "execution_count": 4,
   "metadata": {},
   "outputs": [
    {
     "data": {
      "text/html": [
       "<div>\n",
       "<style scoped>\n",
       "    .dataframe tbody tr th:only-of-type {\n",
       "        vertical-align: middle;\n",
       "    }\n",
       "\n",
       "    .dataframe tbody tr th {\n",
       "        vertical-align: top;\n",
       "    }\n",
       "\n",
       "    .dataframe thead th {\n",
       "        text-align: right;\n",
       "    }\n",
       "</style>\n",
       "<table border=\"1\" class=\"dataframe\">\n",
       "  <thead>\n",
       "    <tr style=\"text-align: right;\">\n",
       "      <th></th>\n",
       "      <th>user_id</th>\n",
       "      <th>email</th>\n",
       "      <th>fb_id</th>\n",
       "      <th>first_name</th>\n",
       "      <th>last_name</th>\n",
       "      <th>created</th>\n",
       "    </tr>\n",
       "  </thead>\n",
       "  <tbody>\n",
       "    <tr>\n",
       "      <th>0</th>\n",
       "      <td>2</td>\n",
       "      <td>jasonrey@mailinator.com</td>\n",
       "      <td>None</td>\n",
       "      <td>test</td>\n",
       "      <td>test</td>\n",
       "      <td>2016-12-19</td>\n",
       "    </tr>\n",
       "    <tr>\n",
       "      <th>1</th>\n",
       "      <td>71</td>\n",
       "      <td>ccyuen_94@hotmail.com</td>\n",
       "      <td>10210053875456184</td>\n",
       "      <td>chan</td>\n",
       "      <td>chun</td>\n",
       "      <td>2016-12-19</td>\n",
       "    </tr>\n",
       "    <tr>\n",
       "      <th>2</th>\n",
       "      <td>63</td>\n",
       "      <td>muzamirshah@hotmail.com</td>\n",
       "      <td>None</td>\n",
       "      <td>muzamir shah</td>\n",
       "      <td>mohamed shariff</td>\n",
       "      <td>2016-12-19</td>\n",
       "    </tr>\n",
       "    <tr>\n",
       "      <th>3</th>\n",
       "      <td>54</td>\n",
       "      <td>ange.villanueva@gmail.com</td>\n",
       "      <td>10154194809081008</td>\n",
       "      <td>angelina</td>\n",
       "      <td>villanueva</td>\n",
       "      <td>2016-12-19</td>\n",
       "    </tr>\n",
       "    <tr>\n",
       "      <th>4</th>\n",
       "      <td>27</td>\n",
       "      <td>enaosh56@gmail.com</td>\n",
       "      <td>None</td>\n",
       "      <td>rosh</td>\n",
       "      <td>alina</td>\n",
       "      <td>2016-12-19</td>\n",
       "    </tr>\n",
       "  </tbody>\n",
       "</table>\n",
       "</div>"
      ],
      "text/plain": [
       "   user_id                      email              fb_id    first_name  \\\n",
       "0        2    jasonrey@mailinator.com               None          test   \n",
       "1       71      ccyuen_94@hotmail.com  10210053875456184          chan   \n",
       "2       63    muzamirshah@hotmail.com               None  muzamir shah   \n",
       "3       54  ange.villanueva@gmail.com  10154194809081008      angelina   \n",
       "4       27         enaosh56@gmail.com               None          rosh   \n",
       "\n",
       "         last_name     created  \n",
       "0             test  2016-12-19  \n",
       "1             chun  2016-12-19  \n",
       "2  mohamed shariff  2016-12-19  \n",
       "3       villanueva  2016-12-19  \n",
       "4            alina  2016-12-19  "
      ]
     },
     "execution_count": 4,
     "metadata": {},
     "output_type": "execute_result"
    }
   ],
   "source": [
    "users.head()"
   ]
  },
  {
   "cell_type": "code",
   "execution_count": 5,
   "metadata": {},
   "outputs": [
    {
     "name": "stdout",
     "output_type": "stream",
     "text": [
      "853563 rows\n",
      "-----------\n",
      "user_id   : 100.0%  | 853563 unique\n",
      "email     : 93.48%  | 797927 unique\n",
      "fb_id     : 50.68%  | 432554 unique\n",
      "first_name: 99.93%  | 265278 unique\n",
      "last_name : 73.9%   | 140269 unique\n",
      "created   : 100.0%  | 691    unique\n"
     ]
    }
   ],
   "source": [
    "not_null(users)"
   ]
  },
  {
   "cell_type": "code",
   "execution_count": 6,
   "metadata": {},
   "outputs": [
    {
     "data": {
      "text/html": [
       "<div>\n",
       "<style scoped>\n",
       "    .dataframe tbody tr th:only-of-type {\n",
       "        vertical-align: middle;\n",
       "    }\n",
       "\n",
       "    .dataframe tbody tr th {\n",
       "        vertical-align: top;\n",
       "    }\n",
       "\n",
       "    .dataframe thead th {\n",
       "        text-align: right;\n",
       "    }\n",
       "</style>\n",
       "<table border=\"1\" class=\"dataframe\">\n",
       "  <thead>\n",
       "    <tr style=\"text-align: right;\">\n",
       "      <th></th>\n",
       "      <th>user_id</th>\n",
       "      <th>email</th>\n",
       "      <th>phone</th>\n",
       "      <th>first_name</th>\n",
       "      <th>last_name</th>\n",
       "      <th>created</th>\n",
       "    </tr>\n",
       "  </thead>\n",
       "  <tbody>\n",
       "    <tr>\n",
       "      <th>0</th>\n",
       "      <td>3.0</td>\n",
       "      <td>sooleng@compass-interactive.com</td>\n",
       "      <td>+60122887526</td>\n",
       "      <td>serenity</td>\n",
       "      <td>puah</td>\n",
       "      <td>2016-12-19</td>\n",
       "    </tr>\n",
       "    <tr>\n",
       "      <th>1</th>\n",
       "      <td>65.0</td>\n",
       "      <td>muzamirshah@gmail.com</td>\n",
       "      <td>+60192704038</td>\n",
       "      <td>muzamir shah</td>\n",
       "      <td>mohamed shariff</td>\n",
       "      <td>2016-12-19</td>\n",
       "    </tr>\n",
       "    <tr>\n",
       "      <th>2</th>\n",
       "      <td>63.0</td>\n",
       "      <td>muzamirshah@gmail.com</td>\n",
       "      <td>+60192704038</td>\n",
       "      <td>muzamir shah</td>\n",
       "      <td>mohamed shariff</td>\n",
       "      <td>2016-12-19</td>\n",
       "    </tr>\n",
       "    <tr>\n",
       "      <th>3</th>\n",
       "      <td>54.0</td>\n",
       "      <td>ange.villanueva@gmail.com</td>\n",
       "      <td>+60122109387</td>\n",
       "      <td>angelina</td>\n",
       "      <td>v</td>\n",
       "      <td>2016-12-19</td>\n",
       "    </tr>\n",
       "    <tr>\n",
       "      <th>4</th>\n",
       "      <td>45.0</td>\n",
       "      <td>hs.lee@qsrbrands.com.my</td>\n",
       "      <td>+60196000570</td>\n",
       "      <td>hs</td>\n",
       "      <td>lee</td>\n",
       "      <td>2016-12-19</td>\n",
       "    </tr>\n",
       "  </tbody>\n",
       "</table>\n",
       "</div>"
      ],
      "text/plain": [
       "   user_id                            email         phone    first_name  \\\n",
       "0      3.0  sooleng@compass-interactive.com  +60122887526      serenity   \n",
       "1     65.0            muzamirshah@gmail.com  +60192704038  muzamir shah   \n",
       "2     63.0            muzamirshah@gmail.com  +60192704038  muzamir shah   \n",
       "3     54.0        ange.villanueva@gmail.com  +60122109387      angelina   \n",
       "4     45.0          hs.lee@qsrbrands.com.my  +60196000570            hs   \n",
       "\n",
       "         last_name     created  \n",
       "0             puah  2016-12-19  \n",
       "1  mohamed shariff  2016-12-19  \n",
       "2  mohamed shariff  2016-12-19  \n",
       "3                v  2016-12-19  \n",
       "4              lee  2016-12-19  "
      ]
     },
     "execution_count": 6,
     "metadata": {},
     "output_type": "execute_result"
    }
   ],
   "source": [
    "users_o.head()"
   ]
  },
  {
   "cell_type": "code",
   "execution_count": 7,
   "metadata": {},
   "outputs": [
    {
     "name": "stdout",
     "output_type": "stream",
     "text": [
      "780854 rows\n",
      "-----------\n",
      "user_id   : 99.97%  | 649813 unique\n",
      "email     : 100.0%  | 564912 unique\n",
      "phone     : 100.0%  | 554677 unique\n",
      "first_name: 100.0%  | 208449 unique\n",
      "last_name : 82.65%  | 118161 unique\n",
      "created   : 100.0%  | 708    unique\n"
     ]
    }
   ],
   "source": [
    "not_null(users_o)"
   ]
  },
  {
   "cell_type": "markdown",
   "metadata": {},
   "source": [
    "# Sending data to ES"
   ]
  },
  {
   "cell_type": "code",
   "execution_count": 8,
   "metadata": {},
   "outputs": [
    {
     "data": {
      "text/plain": [
       "{'acknowledged': True, 'shards_acknowledged': True, 'index': 'users_db'}"
      ]
     },
     "execution_count": 8,
     "metadata": {},
     "output_type": "execute_result"
    }
   ],
   "source": [
    "from elasticsearch import Elasticsearch\n",
    "from elasticsearch_dsl import Search, A\n",
    "from elasticsearch import helpers\n",
    "es = Elasticsearch()\n",
    "\n",
    "# ignore 400 cause by IndexAlreadyExistsException when creating an index\n",
    "es.indices.create(index = 'users_db', ignore = 400)"
   ]
  },
  {
   "cell_type": "markdown",
   "metadata": {},
   "source": [
    "## 1. Users\n",
    "We split out table to 3 parts:\n",
    "* Single email & Single fb_id\n",
    "* Single email &     No fb_id)\n",
    "*     No email & Single fb_id\n",
    "* Duplicated email or fb_id"
   ]
  },
  {
   "cell_type": "markdown",
   "metadata": {},
   "source": [
    "### Functions"
   ]
  },
  {
   "cell_type": "code",
   "execution_count": 9,
   "metadata": {},
   "outputs": [],
   "source": [
    "def get_es_id(key = 'email'):\n",
    "    s = Search(using = es, index = 'users_db')\n",
    "    out = []\n",
    "    for hit in s.scan():\n",
    "        out.extend(hit.to_dict()[key])\n",
    "    return list(set(out))\n",
    "\n",
    "def get_max():\n",
    "    s = Search(using = es, index = 'users_db')\n",
    "    s = s[:0]\n",
    "    aggr_max = A('max', field = 'entropia_id')\n",
    "    s.aggs.bucket('max_id', aggr_max)\n",
    "    r = s.execute()\n",
    "    return int(r['aggregations']['max_id']['value'])"
   ]
  },
  {
   "cell_type": "markdown",
   "metadata": {},
   "source": [
    "### Singles"
   ]
  },
  {
   "cell_type": "code",
   "execution_count": 10,
   "metadata": {},
   "outputs": [
    {
     "name": "stdout",
     "output_type": "stream",
     "text": [
      "CPU times: user 2.38 s, sys: 1.57 ms, total: 2.38 s\n",
      "Wall time: 2.39 s\n"
     ]
    }
   ],
   "source": [
    "%%time\n",
    "#email\n",
    "tmp = users['email'].value_counts().reset_index()\n",
    "tmp.rename(columns = {'index': 'uid', 'email': 'cnt'}, inplace = True)\n",
    "email = pd.DataFrame({'uid': tmp.loc[tmp['cnt'] == 1].reset_index()['uid']})\n",
    "\n",
    "tmp = users['fb_id'].value_counts().reset_index()\n",
    "tmp.rename(columns = {'index': 'uid', 'fb_id': 'cnt'}, inplace = True)\n",
    "fb = pd.DataFrame({'uid': tmp.loc[tmp['cnt'] == 1].reset_index()['uid']})\n",
    "\n",
    "tmp = pd.merge(users, email, left_on = 'email', right_on = 'uid', how = 'inner')\n",
    "del tmp['uid']\n",
    "single = tmp.loc[tmp['fb_id'].isnull()]\n",
    "\n",
    "tmp = pd.merge(tmp, fb, left_on = 'fb_id', right_on = 'uid', how = 'inner')\n",
    "del tmp['uid']\n",
    "single = single.append(tmp, ignore_index = True, sort = False)\n",
    "\n",
    "tmp = pd.merge(users, fb, left_on = 'fb_id', right_on = 'uid', how = 'inner')\n",
    "del tmp['uid']\n",
    "single = single.append(tmp.loc[tmp['email'].isnull()], ignore_index = True, sort = False)\n",
    "\n",
    "del tmp, email, fb"
   ]
  },
  {
   "cell_type": "code",
   "execution_count": 14,
   "metadata": {},
   "outputs": [
    {
     "data": {
      "text/plain": [
       "(100000, 0)"
      ]
     },
     "execution_count": 14,
     "metadata": {},
     "output_type": "execute_result"
    }
   ],
   "source": [
    "exist_email = get_es_id(key = 'email')\n",
    "exist_fb = get_es_id(key = 'fb_id')\n",
    "len(exist_email), len(exist_fb)"
   ]
  },
  {
   "cell_type": "code",
   "execution_count": 15,
   "metadata": {
    "scrolled": true
   },
   "outputs": [
    {
     "name": "stdout",
     "output_type": "stream",
     "text": [
      "(753541, 6) (100000, 6) (853541, 8)\n",
      "CPU times: user 777 ms, sys: 11.9 ms, total: 788 ms\n",
      "Wall time: 788 ms\n"
     ]
    }
   ],
   "source": [
    "%%time\n",
    "email = pd.DataFrame({'uid': exist_email, 'flag_email': 1})\n",
    "single = pd.merge(single, email, left_on = 'email', right_on = 'uid', how = 'left')\n",
    "del email, single['uid']\n",
    "\n",
    "fb = pd.DataFrame({'uid': exist_fb, 'flag_fb': 1})\n",
    "single = pd.merge(single, fb, left_on = 'fb_id', right_on = 'uid', how = 'left')\n",
    "del fb, single['uid']\n",
    "\n",
    "repeat = single.loc[(single['flag_email'] == 1) | (single['flag_fb'] == 1)].reset_index()\n",
    "new = single.loc[single['flag_email'].isnull() & single['flag_fb'].isnull()].reset_index()\n",
    "del repeat['index'], repeat['flag_email'], repeat['flag_fb']\n",
    "del new['index'], new['flag_email'], new['flag_fb']\n",
    "print(new.shape, repeat.shape, single.shape)\n",
    "del single"
   ]
  },
  {
   "cell_type": "markdown",
   "metadata": {},
   "source": [
    "#### 1. new ones"
   ]
  },
  {
   "cell_type": "code",
   "execution_count": 12,
   "metadata": {},
   "outputs": [],
   "source": [
    "def to_es_single_new(df, last_id = 0):\n",
    "    for i in df.index:\n",
    "        last_id += 1\n",
    "        yield {\n",
    "            '_op_type': 'index',\n",
    "            '_index': 'users_db',\n",
    "            '_type': 'document',\n",
    "            '_id': last_id,\n",
    "            '_source': {\n",
    "                'entropia_id': last_id,\n",
    "                'user_id': [int(df['user_id'][i])],\n",
    "                'email':[] if df['email'][i] is None else [df['email'][i]],\n",
    "                'phone':[],\n",
    "                'fb_id':[] if df['fb_id'][i] is None else [df['fb_id'][i]],\n",
    "                'first_name':[] if df['first_name'][i] is None else [df['first_name'][i]],\n",
    "                'last_name':[] if df['last_name'][i] is None else [df['last_name'][i]],\n",
    "                'updated': str(datetime.now()),#.date()),\n",
    "                'first_activity': None,\n",
    "                'registered': str(df['created'][i])\n",
    "            }\n",
    "        }"
   ]
  },
  {
   "cell_type": "code",
   "execution_count": 13,
   "metadata": {},
   "outputs": [
    {
     "name": "stdout",
     "output_type": "stream",
     "text": [
      "CPU times: user 15.5 s, sys: 9.5 ms, total: 15.5 s\n",
      "Wall time: 18 s\n"
     ]
    },
    {
     "data": {
      "text/plain": [
       "(100000, [])"
      ]
     },
     "execution_count": 13,
     "metadata": {},
     "output_type": "execute_result"
    }
   ],
   "source": [
    "%%time\n",
    "# temporary to get example\n",
    "helpers.bulk(es, to_es_single_new(single.loc[single.index < 100000]))"
   ]
  },
  {
   "cell_type": "code",
   "execution_count": 16,
   "metadata": {},
   "outputs": [
    {
     "name": "stdout",
     "output_type": "stream",
     "text": [
      "(753541, [])\n",
      "CPU times: user 2min 5s, sys: 136 ms, total: 2min 5s\n",
      "Wall time: 2min 24s\n"
     ]
    }
   ],
   "source": [
    "%%time\n",
    "if new.shape[0] > 0:\n",
    "    max_id = get_max()\n",
    "    print(helpers.bulk(es, to_es_single_new(new, max_id)))\n",
    "else:\n",
    "    print('Nothing to write')"
   ]
  },
  {
   "cell_type": "markdown",
   "metadata": {},
   "source": [
    "#### 2. Repeated"
   ]
  },
  {
   "cell_type": "code",
   "execution_count": 18,
   "metadata": {},
   "outputs": [],
   "source": [
    "def to_es_single_repeat(df):\n",
    "    def get_value(v_hit, v):\n",
    "        if type(v_hit) == list:\n",
    "            return v_hit if v is None or v in v_hit else v_hit + [v]\n",
    "        else:\n",
    "            return v_hit if v is None or v_hit is None or v_hit < v else v\n",
    "    for i in df.index: \n",
    "        user_id = None if df['user_id'][i] is None or math.isnan(df['user_id'][i]) else int(df['user_id'][i])\n",
    "        email = df['email'][i]\n",
    "        fb_id = df['fb_id'][i]\n",
    "        first_name = df['first_name'][i]\n",
    "        last_name = df['last_name'][i]\n",
    "        registered = None if df['created'][i] is None else str(df['created'][i])\n",
    "        #----------------------------------------\n",
    "        s = Search(using = es, index = 'users_db')\n",
    "        q = []\n",
    "        if df['email'][i] is not None:\n",
    "            q.append({'match': {'email.keyword': df['email'][i]}})\n",
    "        if df['fb_id'][i] is not None:\n",
    "            q.append({'match': {'fb_id.keyword': df['fb_id'][i]}})\n",
    "        s = s.query('bool', should = q)\n",
    "        r = s.execute()\n",
    "        #----------------------------------------\n",
    "        if len(r.hits) > 1:\n",
    "            print(q)\n",
    "            continue\n",
    "        #----------------------------------------\n",
    "        hit = r.hits[0]\n",
    "        doc = dict()\n",
    "        if user_id is not None and user_id not in hit.user_id:\n",
    "            doc['user_id'] = list(hit.user_id) + [user_id]\n",
    "        if email is not None and email not in hit.email:\n",
    "            doc['email'] = list(hit.email) + [email]\n",
    "        if fb_id is not None and fb_id not in hit.fb_id:\n",
    "            doc['fb_id'] = list(hit.fb_id) + [fb_id]\n",
    "        if first_name is not None and first_name not in hit.first_name:\n",
    "            doc['first_name'] = list(hit.first_name) + [first_name]\n",
    "        if last_name is not None and last_name not in hit.last_name:\n",
    "            doc['last_name'] = list(hit.last_name) + [last_name]\n",
    "        if hit.registered is not None and registered is not None and registered < hit.registered:\n",
    "            doc['registered'] = registered\n",
    "        \n",
    "        if doc == dict():\n",
    "            continue\n",
    "        doc['updated'] = str(datetime.now())                \n",
    "        yield {\n",
    "            '_op_type': 'update',\n",
    "            '_index': 'users_db',\n",
    "            '_type': 'document',\n",
    "            '_id': hit.entropia_id,\n",
    "            'doc': doc\n",
    "        }\n",
    "\n",
    "def OLD_to_es_single_repeat(df):\n",
    "    def get_value(v_hit, v):\n",
    "        if type(v_hit) == list:\n",
    "            return v_hit if v is None or v in v_hit else v_hit + [v]\n",
    "        else:\n",
    "            return v_hit if v is None or v_hit is None or v_hit < v else v\n",
    "    for i in df.index: \n",
    "        user_id = None if df['user_id'][i] is None or math.isnan(df['user_id'][i]) else int(df['user_id'][i])\n",
    "        email = df['email'][i]\n",
    "        fb_id = df['fb_id'][i]\n",
    "        first_name = df['first_name'][i]\n",
    "        last_name = df['last_name'][i]\n",
    "        registered = str(df['created'][i])\n",
    "        #----------------------------------------\n",
    "        s = Search(using = es, index = 'users_db')\n",
    "        q = []\n",
    "        if df['email'][i] is not None:\n",
    "            q.append({'match': {'email.keyword': df['email'][i]}})\n",
    "        if df['fb_id'][i] is not None:\n",
    "            q.append({'match': {'fb_id.keyword': df['fb_id'][i]}})\n",
    "        s = s.query('bool', should = q)\n",
    "        r = s.execute()\n",
    "        #----------------------------------------\n",
    "        if len(r.hits) > 1:\n",
    "            print(q)\n",
    "            continue\n",
    "        #----------------------------------------\n",
    "        hit = r.hits[0]\n",
    "        doc = {\n",
    "            'entropia_id': hit.entropia_id,\n",
    "            'user_id': get_value(list(hit.user_id), user_id),\n",
    "            'email': get_value(list(hit.email), email),\n",
    "            'phone':[],\n",
    "            'fb_id': get_value(list(hit.fb_id), fb_id),\n",
    "            'first_name': get_value(list(hit.first_name), first_name),\n",
    "            'last_name': get_value(list(hit.last_name), last_name),\n",
    "            'updated': str(datetime.now()),#.date()),\n",
    "            'first_activity': get_value(hit.first_activity, None),\n",
    "            'registered': get_value(hit.registered, registered)\n",
    "        }\n",
    "                \n",
    "        yield {\n",
    "            '_op_type': 'update',\n",
    "            '_index': 'users_db',\n",
    "            '_type': 'document',\n",
    "            '_id': hit.entropia_id,\n",
    "            'doc': doc\n",
    "        }"
   ]
  },
  {
   "cell_type": "code",
   "execution_count": 19,
   "metadata": {},
   "outputs": [
    {
     "name": "stdout",
     "output_type": "stream",
     "text": [
      "(0, [])\n",
      "CPU times: user 1min 9s, sys: 2.53 s, total: 1min 12s\n",
      "Wall time: 1min 45s\n"
     ]
    }
   ],
   "source": [
    "%%time\n",
    "if repeat.shape[0] > 0:\n",
    "    print(helpers.bulk(es, to_es_single_repeat(repeat)))\n",
    "else:\n",
    "    print('Nothing to write')"
   ]
  },
  {
   "cell_type": "markdown",
   "metadata": {},
   "source": [
    "### Duplicates"
   ]
  },
  {
   "cell_type": "code",
   "execution_count": 20,
   "metadata": {},
   "outputs": [
    {
     "name": "stdout",
     "output_type": "stream",
     "text": [
      "(22, 6)\n",
      "CPU times: user 1.3 s, sys: 303 µs, total: 1.3 s\n",
      "Wall time: 1.3 s\n"
     ]
    }
   ],
   "source": [
    "%%time\n",
    "#email\n",
    "tmp = users['email'].value_counts().reset_index()\n",
    "tmp.rename(columns = {'index': 'uid', 'email': 'cnt'}, inplace = True)\n",
    "email = pd.DataFrame({'uid': tmp.loc[tmp['cnt'] > 1].reset_index()['uid']})\n",
    "\n",
    "tmp = users['fb_id'].value_counts().reset_index()\n",
    "tmp.rename(columns = {'index': 'uid', 'fb_id': 'cnt'}, inplace = True)\n",
    "fb = pd.DataFrame({'uid': tmp.loc[tmp['cnt'] > 1].reset_index()['uid']})\n",
    "\n",
    "dupl = pd.merge(users, email, left_on = 'email', right_on = 'uid', how = 'inner')\n",
    "del dupl['uid']\n",
    "\n",
    "tmp = pd.merge(users, fb, left_on = 'fb_id', right_on = 'uid', how = 'inner')\n",
    "del tmp['uid']\n",
    "dupl = dupl.append(tmp, ignore_index = True, sort = False)\n",
    "print(dupl.shape)\n",
    "del tmp, email, fb"
   ]
  },
  {
   "cell_type": "code",
   "execution_count": 21,
   "metadata": {},
   "outputs": [
    {
     "name": "stdout",
     "output_type": "stream",
     "text": [
      "797916 432551\n",
      "CPU times: user 31 s, sys: 127 ms, total: 31.1 s\n",
      "Wall time: 38.7 s\n"
     ]
    }
   ],
   "source": [
    "%%time\n",
    "exist_email = get_es_id(key = 'email')\n",
    "exist_fb = get_es_id(key = 'fb_id')\n",
    "print(len(exist_email), len(exist_fb))"
   ]
  },
  {
   "cell_type": "code",
   "execution_count": 22,
   "metadata": {},
   "outputs": [
    {
     "name": "stdout",
     "output_type": "stream",
     "text": [
      "(22, 6) (0, 6) (22, 8)\n",
      "CPU times: user 748 ms, sys: 165 µs, total: 748 ms\n",
      "Wall time: 746 ms\n"
     ]
    }
   ],
   "source": [
    "%%time\n",
    "email = pd.DataFrame({'uid': exist_email, 'flag_email': 1})\n",
    "dupl = pd.merge(dupl, email, left_on = 'email', right_on = 'uid', how = 'left')\n",
    "del email, dupl['uid']\n",
    "\n",
    "fb = pd.DataFrame({'uid': exist_fb, 'flag_fb': 1})\n",
    "dupl = pd.merge(dupl, fb, left_on = 'fb_id', right_on = 'uid', how = 'left')\n",
    "del fb, dupl['uid']\n",
    "\n",
    "repeat = dupl.loc[(dupl['flag_email'] == 1) | (dupl['flag_fb'] == 1)].reset_index()\n",
    "new = dupl.loc[dupl['flag_email'].isnull() & dupl['flag_fb'].isnull()].reset_index()\n",
    "del repeat['index'], repeat['flag_email'], repeat['flag_fb']\n",
    "del new['index'], new['flag_email'], new['flag_fb']\n",
    "print(new.shape, repeat.shape, dupl.shape)\n",
    "del dupl"
   ]
  },
  {
   "cell_type": "markdown",
   "metadata": {},
   "source": [
    "#### 1. new ones"
   ]
  },
  {
   "cell_type": "code",
   "execution_count": 23,
   "metadata": {},
   "outputs": [],
   "source": [
    "def to_es_dupl_new(df, last_id = 0):\n",
    "    cond_email = df['email'].notnull()\n",
    "    for email in df.loc[cond_email, 'email'].unique():\n",
    "        last_id += 1\n",
    "        cond = df['email'] == email\n",
    "        _source = {\n",
    "            'entropia_id': last_id,\n",
    "            'user_id': list(map(int, df.loc[cond & df['user_id'].notnull(),'user_id'].unique())),\n",
    "            'email': [email],\n",
    "            'phone': [],\n",
    "            'fb_id': list(df.loc[cond & df['fb_id'].notnull(),'fb_id'].unique()),\n",
    "            'first_name': list(df.loc[cond & df['first_name'].notnull(), 'first_name'].unique()),\n",
    "            'last_name': list(df.loc[cond & df['last_name'].notnull(), 'last_name'].unique()),\n",
    "            'updated': str(datetime.now()),#.date()),\n",
    "            'first_activity': None,\n",
    "            'registered': str(df.loc[cond & df['created'].notnull(), 'created'].min())          \n",
    "        }\n",
    "        yield {\n",
    "            '_op_type': 'index',\n",
    "            '_index': 'users_db',\n",
    "            '_type': 'document',\n",
    "            '_id': last_id,\n",
    "            '_source': _source\n",
    "        }\n",
    "    #------------------------------\n",
    "    cond_fb = df['email'].isnull() & df['fb_id'].notnull()\n",
    "    for fb_id in df.loc[cond_fb, 'fb_id'].unique():\n",
    "        last_id += 1\n",
    "        cond = df['fb_id'] == fb_id\n",
    "        _source = {\n",
    "            'entropia_id': last_id,\n",
    "            'user_id': list(map(int, df.loc[cond & df['user_id'].notnull(),'user_id'].unique())),\n",
    "            'email': list(df.loc[cond & df['email'].notnull(),'email'].unique()),\n",
    "            'phone': [],\n",
    "            'fb_id': [fb_id],\n",
    "            'first_name': list(df.loc[cond & df['first_name'].notnull(), 'first_name'].unique()),\n",
    "            'last_name': list(df.loc[cond & df['last_name'].notnull(), 'last_name'].unique()),\n",
    "            'updated': str(datetime.now()),#.date()),\n",
    "            'first_activity': None,\n",
    "            'registered': str(df.loc[cond & df['created'].notnull(), 'created'].min())          \n",
    "        }\n",
    "        yield {\n",
    "            '_op_type': 'index',\n",
    "            '_index': 'users_db',\n",
    "            '_type': 'document',\n",
    "            '_id': last_id,\n",
    "            '_source': _source\n",
    "        }"
   ]
  },
  {
   "cell_type": "code",
   "execution_count": 24,
   "metadata": {},
   "outputs": [
    {
     "name": "stdout",
     "output_type": "stream",
     "text": [
      "(11, [])\n",
      "CPU times: user 50.9 ms, sys: 55 µs, total: 51 ms\n",
      "Wall time: 57.3 ms\n"
     ]
    }
   ],
   "source": [
    "%%time\n",
    "if new.shape[0] > 0:\n",
    "    max_id = get_max()\n",
    "    print(helpers.bulk(es, to_es_dupl_new(new, max_id)))\n",
    "else:\n",
    "    print('Nothing to write')"
   ]
  },
  {
   "cell_type": "markdown",
   "metadata": {},
   "source": [
    "#### 2. repeated"
   ]
  },
  {
   "cell_type": "code",
   "execution_count": 27,
   "metadata": {},
   "outputs": [],
   "source": [
    "# !TODO: change this\n",
    "def to_es_dupl_repeat(df):\n",
    "    cond_email = df['email'].notnull()\n",
    "    for email in df.loc[cond_email, 'email']: \n",
    "        cond = df['email'] == email\n",
    "        user_id = set(list(map(int, df.loc[cond & df['user_id'].notnull(), 'user_id'].unique())))\n",
    "        fb_id = set(df.loc[cond & df['fb_id'].notnull(), 'fb_id'].values)\n",
    "        first_name = set(df.loc[cond & df['first_name'].notnull(), 'first_name'].values)\n",
    "        last_name = set(df.loc[cond & df['last_name'].notnull(), 'last_name'].values)\n",
    "        registered = str(df.loc[cond & df['created'].notnull(), 'created'].min())        \n",
    "        \n",
    "        s = Search(using = es, index = 'users_db')\n",
    "        q = [{'match': {'email.keyword': email}}]\n",
    "        for fb in fb_id:\n",
    "            q.append({'match': {'fb_id.keyword': fb}})\n",
    "        s = s.query('bool', should = q)\n",
    "        r = s.execute()\n",
    "        \n",
    "        if len(r.hits) > 1:\n",
    "            print(q)\n",
    "            continue\n",
    "        \n",
    "        hit = r.hits[0]\n",
    "        doc = {\n",
    "            'entropia_id': hit.entropia_id,\n",
    "            'user_id': list(set(hit.user_id) | user_id),\n",
    "            'email': list(hit.email) if email not in list(hit.email) else list(hit.email) + [email],\n",
    "            'phone': list(hit.phone),\n",
    "            'fb_id': list(set(hit.fb_id) | fb_id),\n",
    "            'first_name': list(set(hit.first_name) | first_name),\n",
    "            'last_name': list(set(hit.last_name) | last_name),\n",
    "            'updated': str(datetime.now()),#.date()),\n",
    "            'first_activity': hit.first_activity,\n",
    "            'registered': hit.registered if registered is None or hit.registered < registered else registered\n",
    "        }       \n",
    "        yield {\n",
    "            '_op_type': 'update',\n",
    "            '_index': 'users_db',\n",
    "            '_type': 'document',\n",
    "            '_id': hit.entropia_id,\n",
    "            'doc': doc\n",
    "        }\n",
    "    #------------------------------\n",
    "    cond_fb = df['email'].isnull() & df['fb_id'].notnull()\n",
    "    for fb_id in df.loc[cond_fb, 'fb_id']: \n",
    "        cond = df['fb_id'] == fb_id\n",
    "        user_id = set(list(map(int, df.loc[cond & df['user_id'].notnull(), 'user_id'].unique())))\n",
    "#         email = []\n",
    "        first_name = set(df.loc[cond & df['first_name'].notnull(), 'first_name'].values)\n",
    "        last_name = set(df.loc[cond & df['last_name'].notnull(), 'last_name'].values)\n",
    "        registered = str(df.loc[cond & df['created'].notnull(), 'created'].min())        \n",
    "        \n",
    "        s = Search(using = es, index = 'users_db')\n",
    "        q = [{'match': {'fb_id.keyword': fb_id}}]\n",
    "        s = s.query('bool', must = q)\n",
    "        r = s.execute()\n",
    "        \n",
    "        if len(r.hits) > 1:\n",
    "            print(q)\n",
    "            continue\n",
    "        \n",
    "        hit = r.hits[0]\n",
    "        doc = {\n",
    "            'entropia_id': hit.entropia_id,\n",
    "            'user_id': list(set(hit.user_id) | user_id),\n",
    "            'email': list(hit.email),\n",
    "            'phone':list(hit.phone),\n",
    "            'fb_id': list(hit.fb_id) if fb_id not in list(hit.fb_id) else list(hit.fb_id) + [fb_id],\n",
    "            'first_name': list(set(hit.first_name) | first_name),\n",
    "            'last_name': list(set(hit.last_name) | last_name),\n",
    "            'updated': str(datetime.now()),#.date()),\n",
    "            'first_activity': hit.first_activity,\n",
    "            'registered': hit.registered if registered is None or hit.registered < registered else registered\n",
    "        }       \n",
    "        yield {\n",
    "            '_op_type': 'update',\n",
    "            '_index': 'users_db',\n",
    "            '_type': 'document',\n",
    "            '_id': hit.entropia_id,\n",
    "            'doc': doc\n",
    "        }"
   ]
  },
  {
   "cell_type": "code",
   "execution_count": null,
   "metadata": {},
   "outputs": [],
   "source": [
    "%%time\n",
    "if repeat.shape[0] > 0:\n",
    "    max_id = get_max()\n",
    "    print(helpers.bulk(es, to_es_dupl_repeat(repeat)))\n",
    "else:\n",
    "    print('Nothing to write')"
   ]
  },
  {
   "cell_type": "markdown",
   "metadata": {},
   "source": [
    "## 2. Users in Orders\n",
    "We split out table to 2 parts:\n",
    "* Single email\n",
    "* Duplicated email"
   ]
  },
  {
   "cell_type": "code",
   "execution_count": 28,
   "metadata": {},
   "outputs": [
    {
     "data": {
      "text/html": [
       "<div>\n",
       "<style scoped>\n",
       "    .dataframe tbody tr th:only-of-type {\n",
       "        vertical-align: middle;\n",
       "    }\n",
       "\n",
       "    .dataframe tbody tr th {\n",
       "        vertical-align: top;\n",
       "    }\n",
       "\n",
       "    .dataframe thead th {\n",
       "        text-align: right;\n",
       "    }\n",
       "</style>\n",
       "<table border=\"1\" class=\"dataframe\">\n",
       "  <thead>\n",
       "    <tr style=\"text-align: right;\">\n",
       "      <th></th>\n",
       "      <th>user_id</th>\n",
       "      <th>email</th>\n",
       "      <th>phone</th>\n",
       "      <th>first_name</th>\n",
       "      <th>last_name</th>\n",
       "      <th>created</th>\n",
       "    </tr>\n",
       "  </thead>\n",
       "  <tbody>\n",
       "    <tr>\n",
       "      <th>0</th>\n",
       "      <td>3.0</td>\n",
       "      <td>sooleng@compass-interactive.com</td>\n",
       "      <td>+60122887526</td>\n",
       "      <td>serenity</td>\n",
       "      <td>puah</td>\n",
       "      <td>2016-12-19</td>\n",
       "    </tr>\n",
       "    <tr>\n",
       "      <th>1</th>\n",
       "      <td>65.0</td>\n",
       "      <td>muzamirshah@gmail.com</td>\n",
       "      <td>+60192704038</td>\n",
       "      <td>muzamir shah</td>\n",
       "      <td>mohamed shariff</td>\n",
       "      <td>2016-12-19</td>\n",
       "    </tr>\n",
       "    <tr>\n",
       "      <th>2</th>\n",
       "      <td>63.0</td>\n",
       "      <td>muzamirshah@gmail.com</td>\n",
       "      <td>+60192704038</td>\n",
       "      <td>muzamir shah</td>\n",
       "      <td>mohamed shariff</td>\n",
       "      <td>2016-12-19</td>\n",
       "    </tr>\n",
       "    <tr>\n",
       "      <th>3</th>\n",
       "      <td>54.0</td>\n",
       "      <td>ange.villanueva@gmail.com</td>\n",
       "      <td>+60122109387</td>\n",
       "      <td>angelina</td>\n",
       "      <td>v</td>\n",
       "      <td>2016-12-19</td>\n",
       "    </tr>\n",
       "    <tr>\n",
       "      <th>4</th>\n",
       "      <td>45.0</td>\n",
       "      <td>hs.lee@qsrbrands.com.my</td>\n",
       "      <td>+60196000570</td>\n",
       "      <td>hs</td>\n",
       "      <td>lee</td>\n",
       "      <td>2016-12-19</td>\n",
       "    </tr>\n",
       "  </tbody>\n",
       "</table>\n",
       "</div>"
      ],
      "text/plain": [
       "   user_id                            email         phone    first_name  \\\n",
       "0      3.0  sooleng@compass-interactive.com  +60122887526      serenity   \n",
       "1     65.0            muzamirshah@gmail.com  +60192704038  muzamir shah   \n",
       "2     63.0            muzamirshah@gmail.com  +60192704038  muzamir shah   \n",
       "3     54.0        ange.villanueva@gmail.com  +60122109387      angelina   \n",
       "4     45.0          hs.lee@qsrbrands.com.my  +60196000570            hs   \n",
       "\n",
       "         last_name     created  \n",
       "0             puah  2016-12-19  \n",
       "1  mohamed shariff  2016-12-19  \n",
       "2  mohamed shariff  2016-12-19  \n",
       "3                v  2016-12-19  \n",
       "4              lee  2016-12-19  "
      ]
     },
     "execution_count": 28,
     "metadata": {},
     "output_type": "execute_result"
    }
   ],
   "source": [
    "users_o.head()"
   ]
  },
  {
   "cell_type": "markdown",
   "metadata": {},
   "source": [
    "### Singles"
   ]
  },
  {
   "cell_type": "code",
   "execution_count": 29,
   "metadata": {},
   "outputs": [
    {
     "data": {
      "text/plain": [
       "1"
      ]
     },
     "execution_count": 29,
     "metadata": {},
     "output_type": "execute_result"
    }
   ],
   "source": [
    "sum(users_o['email'].isnull())"
   ]
  },
  {
   "cell_type": "code",
   "execution_count": 30,
   "metadata": {},
   "outputs": [
    {
     "name": "stdout",
     "output_type": "stream",
     "text": [
      "(438142, 7) (780854, 6)\n",
      "CPU times: user 881 ms, sys: 175 µs, total: 881 ms\n",
      "Wall time: 879 ms\n"
     ]
    }
   ],
   "source": [
    "%%time\n",
    "#email\n",
    "tmp = users_o['email'].value_counts().reset_index()\n",
    "tmp.rename(columns = {'index': 'uid', 'email': 'cnt'}, inplace = True)\n",
    "email = pd.DataFrame({'uid': tmp.loc[tmp['cnt'] == 1].reset_index()['uid']})\n",
    "\n",
    "single = pd.merge(users_o, email, left_on = 'email', right_on = 'uid', how = 'inner')\n",
    "print(single.shape, users_o.shape)\n",
    "del single['uid'], tmp, email"
   ]
  },
  {
   "cell_type": "code",
   "execution_count": 31,
   "metadata": {},
   "outputs": [
    {
     "name": "stdout",
     "output_type": "stream",
     "text": [
      "797926\n",
      "CPU times: user 18.1 s, sys: 74.4 ms, total: 18.2 s\n",
      "Wall time: 22 s\n"
     ]
    }
   ],
   "source": [
    "%%time\n",
    "exist_email = get_es_id(key = 'email')\n",
    "print(len(exist_email))"
   ]
  },
  {
   "cell_type": "code",
   "execution_count": 32,
   "metadata": {},
   "outputs": [
    {
     "name": "stdout",
     "output_type": "stream",
     "text": [
      "(140358, 6) (297784, 6) (438142, 7)\n",
      "CPU times: user 797 ms, sys: 148 µs, total: 797 ms\n",
      "Wall time: 795 ms\n"
     ]
    }
   ],
   "source": [
    "%%time\n",
    "email = pd.DataFrame({'uid': exist_email, 'flag_email': 1})\n",
    "single = pd.merge(single, email, left_on = 'email', right_on = 'uid', how = 'left')\n",
    "del email, single['uid']\n",
    "\n",
    "repeat = single.loc[single['flag_email'] == 1].reset_index()\n",
    "new = single.loc[single['flag_email'].isnull()].reset_index()\n",
    "del repeat['index'], repeat['flag_email']\n",
    "del new['index'], new['flag_email']\n",
    "print(new.shape, repeat.shape, single.shape)\n",
    "del single"
   ]
  },
  {
   "cell_type": "markdown",
   "metadata": {
    "scrolled": true
   },
   "source": [
    "#### 1. new ones"
   ]
  },
  {
   "cell_type": "code",
   "execution_count": 33,
   "metadata": {},
   "outputs": [],
   "source": [
    "def order_to_es_single_new(df, last_id = 0):\n",
    "    for i in df.index:\n",
    "        last_id += 1\n",
    "        yield {\n",
    "            '_op_type': 'index',\n",
    "            '_index': 'users_db',\n",
    "            '_type': 'document',\n",
    "            '_id': last_id,\n",
    "            '_source': {\n",
    "                'entropia_id': last_id,\n",
    "                'user_id': [] if df['user_id'][i] is None or math.isnan(df['user_id'][i]) else [int(df['user_id'][i])],\n",
    "                'email': [] if df['email'][i] is None else [df['email'][i]],\n",
    "                'phone': [] if df['phone'][i] is None else [df['phone'][i]],\n",
    "                'fb_id':[],\n",
    "                'first_name':[] if df['first_name'][i] is None else [df['first_name'][i]],\n",
    "                'last_name':[] if df['last_name'][i] is None else [df['last_name'][i]],\n",
    "                'updated': str(datetime.now()),#.date()),\n",
    "                'first_activity': str(df['created'][i]),\n",
    "                'registered': None\n",
    "            }\n",
    "        }"
   ]
  },
  {
   "cell_type": "code",
   "execution_count": 34,
   "metadata": {},
   "outputs": [
    {
     "name": "stdout",
     "output_type": "stream",
     "text": [
      "(140358, [])\n",
      "CPU times: user 29.6 s, sys: 24.5 ms, total: 29.6 s\n",
      "Wall time: 33.2 s\n"
     ]
    }
   ],
   "source": [
    "%%time\n",
    "if new.shape[0] > 0:\n",
    "    max_id = get_max()\n",
    "    print(helpers.bulk(es, order_to_es_single_new(new, max_id)))\n",
    "else:\n",
    "    print('Nothing to write')"
   ]
  },
  {
   "cell_type": "markdown",
   "metadata": {},
   "source": [
    "#### 2. repeated"
   ]
  },
  {
   "cell_type": "code",
   "execution_count": 35,
   "metadata": {},
   "outputs": [],
   "source": [
    "def order_to_es_single_repeat(df):\n",
    "    def get_value(v_hit, v):\n",
    "        if type(v_hit) == list:\n",
    "            return v_hit if v is None or v in v_hit else v_hit + [v]\n",
    "        else:\n",
    "            return v_hit if v is None or v_hit is None or v_hit < v else v\n",
    "    for i in df.index: \n",
    "        user_id = None if df['user_id'][i] is None or math.isnan(df['user_id'][i]) else int(df['user_id'][i])\n",
    "        email = df['email'][i]\n",
    "        phone = df['phone'][i]\n",
    "        first_name = df['first_name'][i]\n",
    "        last_name = df['last_name'][i]\n",
    "        first_activity = None if df['created'][i] is None else str(df['created'][i])\n",
    "        #----------------------------------------\n",
    "        s = Search(using = es, index = 'users_db')\n",
    "        q = [{'match': {'email.keyword': df['email'][i]}}]\n",
    "        s = s.query('bool', must = q)\n",
    "        r = s.execute()\n",
    "        #----------------------------------------\n",
    "        if len(r.hits) > 1:\n",
    "            print(q)\n",
    "            continue\n",
    "        #----------------------------------------\n",
    "        hit = r.hits[0]\n",
    "        doc = dict()\n",
    "        if user_id is not None and user_id not in hit.user_id:\n",
    "            doc['user_id'] = list(hit.user_id) + [user_id]\n",
    "        if email is not None and email not in hit.email:\n",
    "            doc['email'] = list(hit.email) + [email]\n",
    "        if phone is not None and phone not in hit.phone:\n",
    "            doc['phone'] = list(hit.phone) + [phone]\n",
    "        if first_name is not None and first_name not in hit.first_name:\n",
    "            doc['first_name'] = list(hit.first_name) + [first_name]\n",
    "        if last_name is not None and last_name not in hit.last_name:\n",
    "            doc['last_name'] = list(hit.last_name) + [last_name]\n",
    "        if hit.first_activity is not None and first_activity is not None and first_activity < hit.first_activity:\n",
    "            doc['first_activity'] = first_activity\n",
    "        \n",
    "        if doc == dict():\n",
    "            continue\n",
    "        doc['updated'] = str(datetime.now())       \n",
    "        yield {\n",
    "            '_op_type': 'update',\n",
    "            '_index': 'users_db',\n",
    "            '_type': 'document',\n",
    "            '_id': hit.entropia_id,\n",
    "            'doc': doc\n",
    "        }"
   ]
  },
  {
   "cell_type": "code",
   "execution_count": 36,
   "metadata": {},
   "outputs": [
    {
     "name": "stdout",
     "output_type": "stream",
     "text": [
      "(297783, [])\n",
      "CPU times: user 3min 41s, sys: 7.77 s, total: 3min 49s\n",
      "Wall time: 5min 43s\n"
     ]
    }
   ],
   "source": [
    "%%time\n",
    "if repeat.shape[0] > 0:\n",
    "    print(helpers.bulk(es, order_to_es_single_repeat(repeat)))\n",
    "else:\n",
    "    print('Nothing to write')"
   ]
  },
  {
   "cell_type": "markdown",
   "metadata": {},
   "source": [
    "### Duplicates"
   ]
  },
  {
   "cell_type": "code",
   "execution_count": 37,
   "metadata": {},
   "outputs": [
    {
     "name": "stdout",
     "output_type": "stream",
     "text": [
      "(342711, 7)\n",
      "CPU times: user 828 ms, sys: 0 ns, total: 828 ms\n",
      "Wall time: 829 ms\n"
     ]
    }
   ],
   "source": [
    "%%time\n",
    "#email\n",
    "tmp = users_o['email'].value_counts().reset_index()\n",
    "tmp.rename(columns = {'index': 'uid', 'email': 'cnt'}, inplace = True)\n",
    "email = pd.DataFrame({'uid': tmp.loc[tmp['cnt'] > 1].reset_index()['uid']})\n",
    "\n",
    "dupl = pd.merge(users_o, email, left_on = 'email', right_on = 'uid', how = 'inner')\n",
    "print(dupl.shape)\n",
    "del tmp, email, dupl['uid']"
   ]
  },
  {
   "cell_type": "code",
   "execution_count": 38,
   "metadata": {},
   "outputs": [
    {
     "name": "stdout",
     "output_type": "stream",
     "text": [
      "938284\n",
      "CPU times: user 21.8 s, sys: 116 ms, total: 21.9 s\n",
      "Wall time: 26.9 s\n"
     ]
    }
   ],
   "source": [
    "%%time\n",
    "exist_email = get_es_id(key = 'email')\n",
    "print(len(exist_email))"
   ]
  },
  {
   "cell_type": "code",
   "execution_count": 39,
   "metadata": {},
   "outputs": [
    {
     "name": "stdout",
     "output_type": "stream",
     "text": [
      "(104981, 6) (237730, 6) (342711, 7)\n",
      "CPU times: user 828 ms, sys: 148 µs, total: 828 ms\n",
      "Wall time: 827 ms\n"
     ]
    }
   ],
   "source": [
    "%%time\n",
    "email = pd.DataFrame({'uid': exist_email, 'flag_email': 1})\n",
    "dupl = pd.merge(dupl, email, left_on = 'email', right_on = 'uid', how = 'left')\n",
    "del email, dupl['uid']\n",
    "\n",
    "repeat = dupl.loc[dupl['flag_email'] == 1].reset_index()\n",
    "new = dupl.loc[dupl['flag_email'].isnull()].reset_index()\n",
    "del repeat['index'], repeat['flag_email']\n",
    "del new['index'], new['flag_email']\n",
    "print(new.shape, repeat.shape, dupl.shape)\n",
    "del dupl"
   ]
  },
  {
   "cell_type": "markdown",
   "metadata": {},
   "source": [
    "#### 1. new ones"
   ]
  },
  {
   "cell_type": "code",
   "execution_count": 40,
   "metadata": {},
   "outputs": [],
   "source": [
    "def order_to_es_dupl_new(df, last_id = 0):\n",
    "    # email is not null by default\n",
    "    print('{} different emails'.format(len(df['email'].unique())))\n",
    "    i = 0\n",
    "    tmp_time = time()\n",
    "    for email in df['email'].unique():\n",
    "        last_id += 1\n",
    "        cond = df['email'] == email\n",
    "        _source = {\n",
    "            'entropia_id': last_id,\n",
    "            'user_id': list(map(int, df.loc[cond & df['user_id'].notnull(),'user_id'].unique())),\n",
    "            'email': [email],\n",
    "            'phone': list(df.loc[cond & df['phone'].notnull(),'phone'].unique()),\n",
    "            'fb_id': [],\n",
    "            'first_name': list(df.loc[cond & df['first_name'].notnull(), 'first_name'].unique()),\n",
    "            'last_name': list(df.loc[cond & df['last_name'].notnull(), 'last_name'].unique()),\n",
    "            'updated': str(datetime.now()),#.date()),\n",
    "            'first_activity': str(df.loc[cond & df['created'].notnull(), 'created'].min()),\n",
    "            'registered': None          \n",
    "        }\n",
    "        i += 1\n",
    "        if i % 1000 == 0:\n",
    "            print('{}{}. {} min.'.format(' ' * (2 - len(str(i))), i, round((time() - tmp_time) / 60, 2)))\n",
    "            tmp_time = time()            \n",
    "        yield {\n",
    "            '_op_type': 'index',\n",
    "            '_index': 'users_db',\n",
    "            '_type': 'document',\n",
    "            '_id': last_id,\n",
    "            '_source': _source\n",
    "        }"
   ]
  },
  {
   "cell_type": "code",
   "execution_count": 41,
   "metadata": {
    "scrolled": true
   },
   "outputs": [
    {
     "name": "stdout",
     "output_type": "stream",
     "text": [
      "36116 different emails\n",
      "1000. 1.0 min.\n",
      "2000. 1.0 min.\n",
      "3000. 0.99 min.\n",
      "4000. 0.99 min.\n",
      "5000. 0.99 min.\n",
      "6000. 0.99 min.\n",
      "7000. 0.98 min.\n",
      "8000. 0.98 min.\n",
      "9000. 0.98 min.\n",
      "10000. 0.97 min.\n",
      "11000. 0.97 min.\n",
      "12000. 0.98 min.\n",
      "13000. 1.03 min.\n",
      "14000. 1.03 min.\n",
      "15000. 0.99 min.\n",
      "16000. 0.99 min.\n",
      "17000. 1.01 min.\n",
      "18000. 1.0 min.\n",
      "19000. 1.02 min.\n",
      "20000. 1.01 min.\n",
      "21000. 1.0 min.\n",
      "22000. 0.99 min.\n",
      "23000. 0.97 min.\n",
      "24000. 0.98 min.\n",
      "25000. 0.98 min.\n",
      "26000. 0.98 min.\n",
      "27000. 0.98 min.\n",
      "28000. 0.99 min.\n",
      "29000. 0.98 min.\n",
      "30000. 0.97 min.\n",
      "31000. 0.98 min.\n",
      "32000. 0.98 min.\n",
      "33000. 0.98 min.\n",
      "34000. 0.98 min.\n",
      "35000. 0.97 min.\n",
      "36000. 0.97 min.\n",
      "(36116, [])\n",
      "CPU times: user 35min 40s, sys: 83.3 ms, total: 35min 40s\n",
      "Wall time: 35min 41s\n"
     ]
    }
   ],
   "source": [
    "%%time\n",
    "if new.shape[0] > 0:\n",
    "    max_id = get_max()\n",
    "    print(helpers.bulk(es, order_to_es_dupl_new(new, max_id)))\n",
    "else:\n",
    "    print('Nothing to write')"
   ]
  },
  {
   "cell_type": "markdown",
   "metadata": {},
   "source": [
    "#### 2. repeated"
   ]
  },
  {
   "cell_type": "code",
   "execution_count": 43,
   "metadata": {},
   "outputs": [],
   "source": [
    "def order_to_es_dupl_repeat(df):\n",
    "    # email is not null by default\n",
    "    print('{} different emails'.format(len(df['email'].unique())))\n",
    "    i = 0\n",
    "    tmp_time = time()\n",
    "    for email in df['email'].unique(): \n",
    "        cond = df['email'] == email\n",
    "        user_id = set(list(map(int, df.loc[cond & df['user_id'].notnull(), 'user_id'].unique())))\n",
    "        phone = set(df.loc[cond & df['phone'].notnull(), 'phone'].values)\n",
    "        first_name = set(df.loc[cond & df['first_name'].notnull(), 'first_name'].values)\n",
    "        last_name = set(df.loc[cond & df['last_name'].notnull(), 'last_name'].values)\n",
    "        fa = str(df.loc[cond & df['created'].notnull(), 'created'].min())        \n",
    "        \n",
    "        s = Search(using = es, index = 'users_db')\n",
    "        q = [{'match': {'email.keyword': email}}]\n",
    "        s = s.query('bool', must = q)\n",
    "        r = s.execute()\n",
    "        \n",
    "        if len(r.hits) > 1:\n",
    "            print(q)\n",
    "            continue\n",
    "        \n",
    "        hit = r.hits[0]\n",
    "        doc = dict()\n",
    "        if user_id is not set() and set(hit.user_id) | user_id != set(hit.user_id):\n",
    "            doc['user_id'] = list(set(hit.user_id) | user_id)\n",
    "        if phone is not set() and set(hit.phone) | phone != set(hit.phone):\n",
    "            doc['phone'] = list(set(hit.phone) | phone)\n",
    "        if first_name is not set() and set(hit.first_name) | first_name != set(hit.first_name):\n",
    "            doc['first_name'] = list(set(hit.first_name) | first_name)\n",
    "        if last_name is not set() and set(hit.last_name) | last_name != set(hit.last_name):\n",
    "            doc['last_name'] = list(set(hit.last_name) | last_name)\n",
    "        if hit.first_activity is not None and fa is not None and fa < hit.first_activity:\n",
    "            doc['first_activity'] = fa\n",
    "        if doc == dict():\n",
    "            continue\n",
    "        doc['updated'] = str(datetime.now()) \n",
    "        i += 1\n",
    "        if i % 1000 == 0:\n",
    "            print('{}{}. {} min.'.format(' ' * (2 - len(str(i))), i, round((time() - tmp_time) / 60, 2)))\n",
    "            tmp_time = time()   \n",
    "        yield {\n",
    "            '_op_type': 'update',\n",
    "            '_index': 'users_db',\n",
    "            '_type': 'document',\n",
    "            '_id': hit.entropia_id,\n",
    "            'doc': doc\n",
    "        }"
   ]
  },
  {
   "cell_type": "code",
   "execution_count": 44,
   "metadata": {
    "scrolled": true
   },
   "outputs": [
    {
     "name": "stdout",
     "output_type": "stream",
     "text": [
      "90653 different emails\n",
      "1000. 1.99 min.\n",
      "2000. 1.99 min.\n",
      "3000. 2.0 min.\n",
      "4000. 2.0 min.\n",
      "5000. 2.0 min.\n",
      "6000. 2.0 min.\n",
      "7000. 1.99 min.\n",
      "8000. 2.0 min.\n",
      "9000. 2.0 min.\n",
      "10000. 1.99 min.\n",
      "11000. 2.02 min.\n",
      "12000. 1.98 min.\n",
      "13000. 1.98 min.\n",
      "14000. 2.0 min.\n",
      "15000. 2.01 min.\n",
      "16000. 1.99 min.\n",
      "17000. 1.99 min.\n",
      "18000. 2.0 min.\n",
      "19000. 1.99 min.\n",
      "20000. 1.99 min.\n",
      "21000. 1.98 min.\n",
      "22000. 2.0 min.\n",
      "23000. 2.0 min.\n",
      "24000. 1.99 min.\n",
      "25000. 1.99 min.\n",
      "26000. 2.02 min.\n",
      "27000. 2.09 min.\n",
      "28000. 2.03 min.\n",
      "29000. 2.02 min.\n",
      "30000. 2.02 min.\n",
      "31000. 2.01 min.\n",
      "32000. 2.02 min.\n",
      "33000. 2.1 min.\n",
      "34000. 2.36 min.\n",
      "35000. 2.32 min.\n",
      "36000. 2.3 min.\n",
      "37000. 2.12 min.\n",
      "38000. 2.06 min.\n",
      "39000. 2.05 min.\n",
      "40000. 2.05 min.\n",
      "41000. 2.03 min.\n",
      "42000. 2.04 min.\n",
      "43000. 2.04 min.\n",
      "44000. 2.06 min.\n",
      "45000. 2.03 min.\n",
      "46000. 2.06 min.\n",
      "47000. 2.04 min.\n",
      "48000. 2.04 min.\n",
      "49000. 2.08 min.\n",
      "50000. 2.08 min.\n",
      "51000. 2.04 min.\n",
      "52000. 2.06 min.\n",
      "53000. 2.04 min.\n",
      "54000. 2.03 min.\n",
      "55000. 2.09 min.\n",
      "56000. 2.06 min.\n",
      "57000. 2.07 min.\n",
      "58000. 2.07 min.\n",
      "59000. 2.05 min.\n",
      "60000. 2.03 min.\n",
      "61000. 2.05 min.\n",
      "62000. 2.07 min.\n",
      "63000. 2.09 min.\n",
      "64000. 2.04 min.\n",
      "65000. 2.05 min.\n",
      "66000. 2.05 min.\n",
      "67000. 2.05 min.\n",
      "68000. 2.05 min.\n",
      "69000. 2.05 min.\n",
      "70000. 2.05 min.\n",
      "71000. 2.02 min.\n",
      "72000. 2.02 min.\n",
      "73000. 2.0 min.\n",
      "74000. 2.0 min.\n",
      "75000. 2.0 min.\n",
      "76000. 1.99 min.\n",
      "77000. 1.99 min.\n",
      "78000. 1.99 min.\n",
      "79000. 1.99 min.\n",
      "80000. 1.99 min.\n",
      "81000. 1.99 min.\n",
      "82000. 1.99 min.\n",
      "83000. 1.99 min.\n",
      "84000. 2.0 min.\n",
      "85000. 2.0 min.\n",
      "86000. 1.99 min.\n",
      "87000. 1.99 min.\n",
      "88000. 2.0 min.\n",
      "89000. 1.99 min.\n",
      "90000. 1.99 min.\n",
      "(90653, [])\n",
      "CPU times: user 3h 3min 8s, sys: 5.9 s, total: 3h 3min 14s\n",
      "Wall time: 3h 4min 12s\n"
     ]
    }
   ],
   "source": [
    "%%time\n",
    "if repeat.shape[0] > 0:\n",
    "    max_id = get_max()\n",
    "    print(helpers.bulk(es, order_to_es_dupl_repeat(repeat)))\n",
    "else:\n",
    "    print('Nothing to write')"
   ]
  },
  {
   "cell_type": "code",
   "execution_count": null,
   "metadata": {},
   "outputs": [],
   "source": []
  },
  {
   "cell_type": "code",
   "execution_count": null,
   "metadata": {},
   "outputs": [],
   "source": []
  },
  {
   "cell_type": "code",
   "execution_count": null,
   "metadata": {},
   "outputs": [],
   "source": []
  },
  {
   "cell_type": "code",
   "execution_count": null,
   "metadata": {},
   "outputs": [],
   "source": []
  },
  {
   "cell_type": "code",
   "execution_count": null,
   "metadata": {},
   "outputs": [],
   "source": []
  },
  {
   "cell_type": "code",
   "execution_count": null,
   "metadata": {
    "scrolled": true
   },
   "outputs": [],
   "source": []
  },
  {
   "cell_type": "code",
   "execution_count": null,
   "metadata": {},
   "outputs": [],
   "source": []
  },
  {
   "cell_type": "code",
   "execution_count": null,
   "metadata": {},
   "outputs": [],
   "source": []
  },
  {
   "cell_type": "code",
   "execution_count": null,
   "metadata": {},
   "outputs": [],
   "source": []
  },
  {
   "cell_type": "code",
   "execution_count": null,
   "metadata": {},
   "outputs": [],
   "source": []
  }
 ],
 "metadata": {
  "kernelspec": {
   "display_name": "Python 3",
   "language": "python",
   "name": "python3"
  },
  "language_info": {
   "codemirror_mode": {
    "name": "ipython",
    "version": 3
   },
   "file_extension": ".py",
   "mimetype": "text/x-python",
   "name": "python",
   "nbconvert_exporter": "python",
   "pygments_lexer": "ipython3",
   "version": "3.6.7"
  }
 },
 "nbformat": 4,
 "nbformat_minor": 2
}
